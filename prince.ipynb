{
  "nbformat": 4,
  "nbformat_minor": 0,
  "metadata": {
    "colab": {
      "name": "Untitled",
      "provenance": [],
      "authorship_tag": "ABX9TyNqiQsdQ6cLrE9WV3a6Gran",
      "include_colab_link": true
    },
    "kernelspec": {
      "name": "python3",
      "display_name": "Python 3"
    }
  },
  "cells": [
    {
      "cell_type": "markdown",
      "metadata": {
        "id": "view-in-github",
        "colab_type": "text"
      },
      "source": [
        "<a href=\"https://colab.research.google.com/github/prinson001/pythonworkshop/blob/main/prince.ipynb\" target=\"_parent\"><img src=\"https://colab.research.google.com/assets/colab-badge.svg\" alt=\"Open In Colab\"/></a>"
      ]
    },
    {
      "cell_type": "markdown",
      "metadata": {
        "id": "9mA8Z5BR4Te9"
      },
      "source": [
        "hello world pro\r\n"
      ]
    },
    {
      "cell_type": "code",
      "metadata": {
        "colab": {
          "base_uri": "https://localhost:8080/"
        },
        "id": "1Q2PWP0A1EA-",
        "outputId": "94a99106-9766-4dbc-a03e-017f6d745296"
      },
      "source": [
        "x=10\r\n",
        "y=\"prince\"\r\n",
        "print(x,y)\r\n",
        "print(y)\r\n",
        "a=input(\"enter the value\")\r\n",
        "type(a)\r\n",
        "\r\n"
      ],
      "execution_count": null,
      "outputs": [
        {
          "output_type": "stream",
          "text": [
            "10 prince\n",
            "prince\n",
            "enter the valueprinvr\n"
          ],
          "name": "stdout"
        },
        {
          "output_type": "execute_result",
          "data": {
            "text/plain": [
              "str"
            ]
          },
          "metadata": {
            "tags": []
          },
          "execution_count": 36
        }
      ]
    },
    {
      "cell_type": "code",
      "metadata": {
        "id": "GTtPCKBJiljg"
      },
      "source": [
        ""
      ],
      "execution_count": null,
      "outputs": []
    },
    {
      "cell_type": "code",
      "metadata": {
        "colab": {
          "base_uri": "https://localhost:8080/"
        },
        "id": "4bkdjMwP9aTh",
        "outputId": "f0cefd40-78fa-42c7-ec8a-fbf09758d950"
      },
      "source": [
        "x,y,z=\"10\",\"20\",\"300\"\r\n",
        "print(x)\r\n",
        "print(y)\r\n",
        "print(z)\r\n"
      ],
      "execution_count": null,
      "outputs": [
        {
          "output_type": "stream",
          "text": [
            "10\n",
            "20\n",
            "300\n"
          ],
          "name": "stdout"
        }
      ]
    },
    {
      "cell_type": "markdown",
      "metadata": {
        "id": "eFWhb7EzBcCP"
      },
      "source": [
        "#exercise1\r\n",
        "\r\n",
        "\r\n",
        "```\r\n",
        "# This is formatted as code\r\n",
        "```\r\n",
        "\r\n"
      ]
    },
    {
      "cell_type": "code",
      "metadata": {
        "colab": {
          "base_uri": "https://localhost:8080/"
        },
        "id": "VOTjAoCk9wfx",
        "outputId": "8180e32f-1390-4ece-a27e-a1f25a1f1eee"
      },
      "source": [
        "carname=\"volvo\"\r\n",
        "print(carname)\r\n",
        "print(type(x))"
      ],
      "execution_count": null,
      "outputs": [
        {
          "output_type": "stream",
          "text": [
            "volvo\n",
            "<class 'int'>\n"
          ],
          "name": "stdout"
        }
      ]
    },
    {
      "cell_type": "markdown",
      "metadata": {
        "id": "BpLVIciDCMQV"
      },
      "source": [
        "#exercise 2\r\n"
      ]
    },
    {
      "cell_type": "code",
      "metadata": {
        "colab": {
          "base_uri": "https://localhost:8080/"
        },
        "id": "ons3qv_YCLgD",
        "outputId": "3879f82b-6690-4d1e-d035-65e37b63ff73"
      },
      "source": [
        "x=50\r\n",
        "print(x)\r\n",
        "print(type(x))"
      ],
      "execution_count": null,
      "outputs": [
        {
          "output_type": "stream",
          "text": [
            "50\n",
            "<class 'int'>\n"
          ],
          "name": "stdout"
        }
      ]
    },
    {
      "cell_type": "markdown",
      "metadata": {
        "id": "pKCToqwECn45"
      },
      "source": [
        "#exercise3\r\n"
      ]
    },
    {
      "cell_type": "code",
      "metadata": {
        "colab": {
          "base_uri": "https://localhost:8080/"
        },
        "id": "ecoL6XOWCacZ",
        "outputId": "e22f941f-65ee-4d26-f8d1-dfe931779bc0"
      },
      "source": [
        "x=5\r\n",
        "y=10\r\n",
        "sum=x+y;\r\n",
        "print(sum)"
      ],
      "execution_count": null,
      "outputs": [
        {
          "output_type": "stream",
          "text": [
            "15\n"
          ],
          "name": "stdout"
        }
      ]
    },
    {
      "cell_type": "code",
      "metadata": {
        "colab": {
          "base_uri": "https://localhost:8080/"
        },
        "id": "Ag9_JjBqC_JZ",
        "outputId": "b39c6bf9-a01b-4fd9-9470-a352ea3cf063"
      },
      "source": [
        "x,y=11,17\r\n",
        "sum=(x+y)\r\n",
        "print(\"sum is\" ,sum)\r\n"
      ],
      "execution_count": null,
      "outputs": [
        {
          "output_type": "stream",
          "text": [
            "sum is 28\n"
          ],
          "name": "stdout"
        }
      ]
    },
    {
      "cell_type": "code",
      "metadata": {
        "colab": {
          "base_uri": "https://localhost:8080/"
        },
        "id": "0h6m9nBwQD0a",
        "outputId": "2fdabbae-1fa3-421c-c81c-71a5255b8186"
      },
      "source": [
        "x1=\"hello world\"\r\n",
        "x2=10\r\n",
        "x3=10.1\r\n",
        "x4=[\"apple\",\"banana\",\"cherry\"]\r\n",
        "x5=(\"apple\",\"banana\",\"cherry\")\r\n",
        "x6=range(6)\r\n",
        "x7={\"name\":\"johnwick\",\"age\":36}\r\n",
        "x8={\"apple\",\"banana\",\"cherry\"}\r\n",
        "x9=True\r\n",
        "print(type(x1))\r\n",
        "print(type(x2))\r\n",
        "print(type(x3))\r\n",
        "print(type(x4))\r\n",
        "print(type(x5))\r\n",
        "print(type(x6))\r\n",
        "print(type(x7))\r\n",
        "print(type(x8))\r\n",
        "print(type(x9))\r\n"
      ],
      "execution_count": 114,
      "outputs": [
        {
          "output_type": "stream",
          "text": [
            "<class 'str'>\n",
            "<class 'int'>\n",
            "<class 'float'>\n",
            "<class 'list'>\n",
            "<class 'tuple'>\n",
            "<class 'range'>\n",
            "<class 'dict'>\n",
            "<class 'set'>\n",
            "<class 'bool'>\n"
          ],
          "name": "stdout"
        }
      ]
    },
    {
      "cell_type": "code",
      "metadata": {
        "colab": {
          "base_uri": "https://localhost:8080/"
        },
        "id": "FpXfRS-dYtMh",
        "outputId": "3ea87025-8ca7-4fc0-bad8-c7d25feeee77"
      },
      "source": [
        "x=1\r\n",
        "y=2.8\r\n",
        "1j\r\n",
        "a=float(x)\r\n",
        "b=int(y)\r\n",
        "c=complex(x)\r\n",
        "print(a)\r\n",
        "print(b)\r\n",
        "print(c)"
      ],
      "execution_count": 115,
      "outputs": [
        {
          "output_type": "stream",
          "text": [
            "1.0\n",
            "2\n",
            "(1+0j)\n"
          ],
          "name": "stdout"
        }
      ]
    },
    {
      "cell_type": "code",
      "metadata": {
        "colab": {
          "base_uri": "https://localhost:8080/"
        },
        "id": "9ygkm3q8T1KT",
        "outputId": "50217400-2043-40ad-b460-eb35f431a1e5"
      },
      "source": [
        "x=1.10\r\n",
        "y=1.0\r\n",
        "z=-35.5\r\n",
        "print(type(z))\r\n",
        "x4={\"x\",\"y\",\"z\"}\r\n",
        "a=range(1,5,2)\r\n",
        "print(list(a))"
      ],
      "execution_count": 112,
      "outputs": [
        {
          "output_type": "stream",
          "text": [
            "<class 'float'>\n",
            "[1, 3]\n"
          ],
          "name": "stdout"
        }
      ]
    },
    {
      "cell_type": "code",
      "metadata": {
        "colab": {
          "base_uri": "https://localhost:8080/"
        },
        "id": "5h9olfkaZvKh",
        "outputId": "4cd72c3a-ce01-4c6f-af86-a9424a23e9e6"
      },
      "source": [
        "x=int(1)\r\n",
        "y=int(2.8)\r\n",
        "z=int(\"3\")\r\n",
        "print(x,y,z)\r\n",
        "\r\n",
        "a=float(1)\r\n",
        "b=float(2.5)\r\n",
        "c=float(\"3\")\r\n",
        "d=float(\"4.2\")\r\n",
        "print(a,b,c,d)\r\n",
        "\r\n",
        "\r\n",
        "e=str(\"n1\")\r\n",
        "f=str(2)\r\n",
        "g=str(3.0)\r\n",
        "print(e,f,g)"
      ],
      "execution_count": 120,
      "outputs": [
        {
          "output_type": "stream",
          "text": [
            "1 2 3\n",
            "1.0 2.5 3.0 4.2\n",
            "n1 2 3.0\n"
          ],
          "name": "stdout"
        }
      ]
    },
    {
      "cell_type": "code",
      "metadata": {
        "colab": {
          "base_uri": "https://localhost:8080/"
        },
        "id": "QcHlDKZDalNM",
        "outputId": "b1067d3d-bfad-466f-f4da-9c40ef2b19cf"
      },
      "source": [
        "x,y=\"2\",\"3\"\r\n",
        "c=x+y\r\n",
        "print(\"x+y=\" +c)\r\n"
      ],
      "execution_count": 126,
      "outputs": [
        {
          "output_type": "stream",
          "text": [
            "x+y=23\n"
          ],
          "name": "stdout"
        }
      ]
    },
    {
      "cell_type": "code",
      "metadata": {
        "colab": {
          "base_uri": "https://localhost:8080/"
        },
        "id": "smstFhY4dw2j",
        "outputId": "a88539fa-11fb-43b6-e393-7eea0e8da7d4"
      },
      "source": [
        "name=\"hello world\"\r\n",
        "print(name[-11])\r\n",
        "print(len(name))\r\n",
        "print(name[0:1])\r\n",
        "print(name.upper())\r\n",
        "print(name.lower())\r\n",
        "\r\n",
        "\r\n"
      ],
      "execution_count": 149,
      "outputs": [
        {
          "output_type": "stream",
          "text": [
            "h\n",
            "11\n",
            "h\n",
            "HELLO WORLD\n",
            "hello world\n"
          ],
          "name": "stdout"
        }
      ]
    },
    {
      "cell_type": "code",
      "metadata": {
        "colab": {
          "base_uri": "https://localhost:8080/"
        },
        "id": "nRanFRFBid8J",
        "outputId": "38fc9cfc-306b-44b3-ce22-df7580cb59b0"
      },
      "source": [
        "a=\"hello \"\r\n",
        "b=\"world\"\r\n",
        "c=a+b\r\n",
        "print(c)"
      ],
      "execution_count": 150,
      "outputs": [
        {
          "output_type": "stream",
          "text": [
            "hello world\n"
          ],
          "name": "stdout"
        }
      ]
    },
    {
      "cell_type": "code",
      "metadata": {
        "colab": {
          "base_uri": "https://localhost:8080/"
        },
        "id": "AcrTrPYHi_2J",
        "outputId": "9312477a-1954-46a7-eec0-e9fd09787137"
      },
      "source": [
        "age=36\r\n",
        "txt=\"my name is abhay,and i am{}\"\r\n",
        "print(txt.format(age))"
      ],
      "execution_count": 157,
      "outputs": [
        {
          "output_type": "stream",
          "text": [
            "my name is abhay,and i am36\n"
          ],
          "name": "stdout"
        }
      ]
    },
    {
      "cell_type": "code",
      "metadata": {
        "colab": {
          "base_uri": "https://localhost:8080/"
        },
        "id": "5XXmkKkAlI0-",
        "outputId": "58ab09bc-ec86-4b0d-bdb5-3e0d31679d56"
      },
      "source": [
        "a=\"hello1\"\r\n",
        "a.upper()\r\n",
        "print(a.upper())"
      ],
      "execution_count": 164,
      "outputs": [
        {
          "output_type": "stream",
          "text": [
            "HELLO1\n"
          ],
          "name": "stdout"
        }
      ]
    },
    {
      "cell_type": "code",
      "metadata": {
        "colab": {
          "base_uri": "https://localhost:8080/"
        },
        "id": "tSTFTBs11yKK",
        "outputId": "63f5ba65-4933-4e9f-d70e-4e9091465c6a"
      },
      "source": [
        "name=\"alvas\"\r\n",
        "print(len(name))\r\n",
        "print(name.upper())\r\n",
        "b=\" college\"\r\n",
        "print(\"after concatination \"+name+b)\r\n",
        "c=name+b\r\n",
        "print(c)\r\n",
        "print(c.isdigit())\r\n",
        "print(c[0:5])\r\n",
        "d=name+ \"{}\"\r\n",
        "print(d.format(b))"
      ],
      "execution_count": 192,
      "outputs": [
        {
          "output_type": "stream",
          "text": [
            "5\n",
            "ALVAS\n",
            "after concatination alvas college\n",
            "alvas college\n",
            "False\n",
            "alvas\n",
            "alvas college\n"
          ],
          "name": "stdout"
        }
      ]
    },
    {
      "cell_type": "code",
      "metadata": {
        "colab": {
          "base_uri": "https://localhost:8080/"
        },
        "id": "Ec85l3df7xdZ",
        "outputId": "31de4fad-cef7-4ce6-b90a-78e417af297d"
      },
      "source": [
        "x=5\r\n",
        "y=3\r\n",
        "print\r\n",
        "print(x)"
      ],
      "execution_count": 202,
      "outputs": [
        {
          "output_type": "stream",
          "text": [
            "5\n",
            "8\n"
          ],
          "name": "stdout"
        }
      ]
    },
    {
      "cell_type": "code",
      "metadata": {
        "colab": {
          "base_uri": "https://localhost:8080/"
        },
        "id": "toWDbOBq9xh5",
        "outputId": "71d07078-8d5e-4053-afd8-f4e0c37a4559"
      },
      "source": [
        "print(3<0 and 4>5)\r\n",
        "print(not(2>1))\r\n"
      ],
      "execution_count": 212,
      "outputs": [
        {
          "output_type": "stream",
          "text": [
            "False\n",
            "False\n"
          ],
          "name": "stdout"
        }
      ]
    },
    {
      "cell_type": "code",
      "metadata": {
        "id": "WNEM_xs_-c03"
      },
      "source": [
        "a=int(input(\"enter the first number\"))\r\n",
        "b=int(input(\"enter the second number\"))\r\n",
        "c=a+b\r\n",
        "d=a-b\r\n",
        "e=a*b\r\n",
        "f=a/b\r\n",
        "print(\"addition is\",c)\r\n",
        "print(\"substraction is\",d)\r\n",
        "print(\"multiplication is\",e)\r\n",
        "print(\"divison is\",f)"
      ],
      "execution_count": null,
      "outputs": []
    },
    {
      "cell_type": "code",
      "metadata": {
        "colab": {
          "base_uri": "https://localhost:8080/"
        },
        "id": "MO3bzUqlFTih",
        "outputId": "0272d199-09fe-4e59-b706-41421f0d3c63"
      },
      "source": [
        "l=[\"1\",\"2\",\"3\",\"4\",\"5\",\"6\"]\r\n",
        "print(l)\r\n",
        "l[1:3]=[\"hello\",\"hii\",\"hiii\"]\r\n",
        "print(l)\r\n",
        "l.append(\"90\")\r\n",
        "print(l)\r\n",
        "tropical=[\"zpm\"]\r\n",
        "l.extend(tropical)\r\n",
        "print(l)\r\n",
        "new=l+tropical\r\n",
        "print(new)\r\n",
        "new.pop(0)\r\n",
        "print(new)\r\n",
        "new.pop()\r\n",
        "print(new)\r\n",
        "new.pop()\r\n",
        "print(new)\r\n"
      ],
      "execution_count": 250,
      "outputs": [
        {
          "output_type": "stream",
          "text": [
            "['1', '2', '3', '4', '5', '6']\n",
            "['1', 'hello', 'hii', 'hiii', '4', '5', '6']\n",
            "['1', 'hello', 'hii', 'hiii', '4', '5', '6', '90']\n",
            "['1', 'hello', 'hii', 'hiii', '4', '5', '6', '90', 'zpm']\n",
            "['1', 'hello', 'hii', 'hiii', '4', '5', '6', '90', 'zpm', 'zpm']\n",
            "['hello', 'hii', 'hiii', '4', '5', '6', '90', 'zpm', 'zpm']\n",
            "['hello', 'hii', 'hiii', '4', '5', '6', '90', 'zpm']\n",
            "['hello', 'hii', 'hiii', '4', '5', '6', '90']\n"
          ],
          "name": "stdout"
        }
      ]
    },
    {
      "cell_type": "code",
      "metadata": {
        "colab": {
          "base_uri": "https://localhost:8080/"
        },
        "id": "i4KP-OpEK-nZ",
        "outputId": "6cca9a6b-a569-49e0-b908-07110ac89cf1"
      },
      "source": [
        "l=[1,220,3,5,5,32,25,26,79,]\r\n",
        "l.reverse()\r\n",
        "print(l)\r\n",
        "l.append(5)\r\n",
        "print(l[2])\r\n",
        "print (l[1])"
      ],
      "execution_count": 301,
      "outputs": [
        {
          "output_type": "stream",
          "text": [
            "[79, 26, 25, 32, 5, 5, 3, 220, 1]\n",
            "25\n",
            "26\n"
          ],
          "name": "stdout"
        }
      ]
    },
    {
      "cell_type": "code",
      "metadata": {
        "colab": {
          "base_uri": "https://localhost:8080/"
        },
        "id": "IvQSwXFgMtEC",
        "outputId": "5e1bc8ff-6807-4e1c-8cad-91d9a663cff4"
      },
      "source": [
        "\r\n",
        "l=['harsh','pratik','bob','dhru']\r\n",
        "print(l)\r\n",
        "print (l[1])\r\n"
      ],
      "execution_count": 263,
      "outputs": [
        {
          "output_type": "stream",
          "text": [
            "['harsh', 'pratik', 'bob', 'dhru']\n",
            "pratik\n"
          ],
          "name": "stdout"
        }
      ]
    },
    {
      "cell_type": "code",
      "metadata": {
        "colab": {
          "base_uri": "https://localhost:8080/"
        },
        "id": "TqQxlHeMNaEy",
        "outputId": "9b9a6a3c-66b4-4058-f8d4-596df090fe89"
      },
      "source": [
        "animal=['cat','dog','fish','goat']\r\n",
        "age=[1,23,3,6]\r\n",
        "c=animal+age\r\n",
        "print(c)\r\n",
        "animal.extend(age)\r\n",
        "print(animal)"
      ],
      "execution_count": 267,
      "outputs": [
        {
          "output_type": "stream",
          "text": [
            "['cat', 'dog', 'fish', 'goat', 1, 23, 3, 6]\n",
            "['cat', 'dog', 'fish', 'goat', 1, 23, 3, 6]\n"
          ],
          "name": "stdout"
        }
      ]
    },
    {
      "cell_type": "code",
      "metadata": {
        "colab": {
          "base_uri": "https://localhost:8080/"
        },
        "id": "0tUPHQz-OVVj",
        "outputId": "e1f170eb-7243-4eeb-cd5f-6a54a4f39544"
      },
      "source": [
        "age=[1,2,3,6,2,2]\r\n",
        "print(age)\r\n",
        "age.append(9)\r\n",
        "print(age)\r\n",
        "age.pop(2)\r\n",
        "print(age)\r\n",
        "print(age.count(2))\r\n",
        "print(age)\r\n",
        "\r\n",
        "\r\n"
      ],
      "execution_count": 281,
      "outputs": [
        {
          "output_type": "stream",
          "text": [
            "[1, 2, 3, 6, 2, 2]\n",
            "[1, 2, 3, 6, 2, 2, 9]\n",
            "[1, 2, 6, 2, 2, 9]\n",
            "3\n",
            "[1, 2, 6, 2, 2, 9]\n"
          ],
          "name": "stdout"
        }
      ]
    },
    {
      "cell_type": "code",
      "metadata": {
        "colab": {
          "base_uri": "https://localhost:8080/"
        },
        "id": "y3d5L-OnRj7b",
        "outputId": "15106393-3273-496c-ed93-92e773857ba0"
      },
      "source": [
        "l=(\"list\",1,2,3,4,5)\r\n",
        "print(l)\r\n",
        "print(l[1])\r\n",
        "print(l[0])\r\n",
        "print(l[4])\r\n",
        "print(l[5])\r\n",
        "y=list(l)\r\n",
        "print(y)\r\n",
        "y[1]=\"hello\"\r\n",
        "print(y)\r\n",
        "z=tuple(y)\r\n",
        "print(z)"
      ],
      "execution_count": 291,
      "outputs": [
        {
          "output_type": "stream",
          "text": [
            "('list', 1, 2, 3, 4, 5)\n",
            "1\n",
            "list\n",
            "4\n",
            "5\n",
            "['list', 1, 2, 3, 4, 5]\n",
            "['list', 'hello', 2, 3, 4, 5]\n",
            "('list', 'hello', 2, 3, 4, 5)\n"
          ],
          "name": "stdout"
        }
      ]
    },
    {
      "cell_type": "code",
      "metadata": {
        "colab": {
          "base_uri": "https://localhost:8080/"
        },
        "id": "5Cx9WvXcTcDb",
        "outputId": "8ae4766e-7f19-4031-d70c-82823eb67f5a"
      },
      "source": [
        "fruits=(\"apple\",\"banana\",\"cherry\")\r\n",
        "print(fruits)\r\n",
        "k=list(fruits)\r\n",
        "print(k)\r\n",
        "k[1]=\"orange\"\r\n",
        "print(k)\r\n",
        "fruits=tuple(k)\r\n",
        "print(fruits)\r\n"
      ],
      "execution_count": 299,
      "outputs": [
        {
          "output_type": "stream",
          "text": [
            "('apple', 'banana', 'cherry')\n",
            "['apple', 'banana', 'cherry']\n",
            "['apple', 'orange', 'cherry']\n",
            "('apple', 'orange', 'cherry')\n"
          ],
          "name": "stdout"
        }
      ]
    }
  ]
}